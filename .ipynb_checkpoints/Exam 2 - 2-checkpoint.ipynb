{
 "cells": [
  {
   "cell_type": "code",
   "execution_count": 1,
   "id": "19720114",
   "metadata": {},
   "outputs": [
    {
     "name": "stdout",
     "output_type": "stream",
     "text": [
      "<Response [200]>\n"
     ]
    }
   ],
   "source": [
    "import time\n",
    "\n",
    "import requests\n",
    "from bs4 import BeautifulSoup\n",
    "import pandas as pd\n",
    "\n",
    "# Base URL of the site to be analyzed\n",
    "SITE_URL = 'https://es.wikipedia.org/wiki/Anexo:Presidentes_de_Colombia'\n",
    "\n",
    "# Downloading and storing in-memory the HTML returned by the weather server\n",
    "page = requests.get(SITE_URL)\n",
    "print(page) # Success making the request"
   ]
  },
  {
   "cell_type": "code",
   "execution_count": 2,
   "id": "3e42ac6e",
   "metadata": {},
   "outputs": [],
   "source": [
    "# HTML content is passed to BeautifulSoup for scraping analysis\n",
    "soup = BeautifulSoup(page.content, \"html.parser\")\n",
    "tables= soup.find_all('table')\n",
    "#print(tables)"
   ]
  },
  {
   "cell_type": "code",
   "execution_count": 3,
   "id": "1c5de47d",
   "metadata": {},
   "outputs": [
    {
     "name": "stdout",
     "output_type": "stream",
     "text": [
      "                                                Date  \\\n",
      "0           25 de julio de 1810 - 1 de abril de 1811   \n",
      "1      1 de abril de 1811 - 19 de septiembre de 1811   \n",
      "2    30 de septiembre de 1813 - 29 de agosto de 1815   \n",
      "3  23 de diciembre de 1811 - 24 de diciembre de 1811   \n",
      "4          25 de junio de 1812 - 5 de agosto de 1812   \n",
      "\n",
      "                               Name PoliticalParty  \n",
      "0         José Miguel Pey y Andrade    Centralista  \n",
      "1                Jorge Tadeo Lozano    Federalista  \n",
      "2  Antonio José de Nariño y Álvarez    Centralista  \n",
      "3                Pedro Groot y Alea  Centralista\\n  \n",
      "4    Manuel Benito de Castro Arcaya    Centralista  \n"
     ]
    }
   ],
   "source": [
    "trs= []\n",
    "for t in tables:\n",
    "    trs.append(t.find_all('tr'))\n",
    "    \n",
    "#print(trs)\n",
    "\n",
    "ds= []\n",
    "names= []\n",
    "pParty= []\n",
    "for tr in trs:\n",
    "    for r in tr:\n",
    "        #print(r)\n",
    "        tds= r.find_all('td')\n",
    "        if len(tds) > 0:\n",
    "            try:\n",
    "                dates= tds[1].find_all('a')\n",
    "                date= dates[0].string + ' de ' + dates[1].string + ' - ' + dates[2].string + ' de ' + dates[3].string\n",
    "            except:\n",
    "                dates= tds[1].string\n",
    "            try:\n",
    "                name= tds[3].find('a').string\n",
    "            except:\n",
    "                name= tds[3].string\n",
    "            ds.append(date)\n",
    "            names.append(name)\n",
    "            pParty.append(tds[5].string)       \n",
    "            \n",
    "df= pd.DataFrame({'Date': ds, 'Name': names, 'PoliticalParty': pParty})\n",
    "print(df.head())\n",
    "    \n"
   ]
  },
  {
   "cell_type": "code",
   "execution_count": 4,
   "id": "1b5b06cd",
   "metadata": {},
   "outputs": [
    {
     "data": {
      "text/plain": [
       "\"\\ndf= df.applymap(lambda x: x.strip() if type(x)== str else x)\\n#print(df.head())\\n\\nst= df.groupby('PoliticalParty')\\nfor t in st:\\n    print(t[0])\\n\""
      ]
     },
     "execution_count": 4,
     "metadata": {},
     "output_type": "execute_result"
    }
   ],
   "source": [
    "#Some stadistics\n",
    "\n",
    "'''\n",
    "df= df.applymap(lambda x: x.strip() if type(x)== str else x)\n",
    "#print(df.head())\n",
    "\n",
    "st= df.groupby('PoliticalParty')\n",
    "for t in st:\n",
    "    print(t[0])\n",
    "'''"
   ]
  }
 ],
 "metadata": {
  "interpreter": {
   "hash": "a6090c10249dce3eb8eaf528a23526f965e5162b4ac7cc89ad9e702c2b462fc1"
  },
  "kernelspec": {
   "display_name": "Python 3 (ipykernel)",
   "language": "python",
   "name": "python3"
  },
  "language_info": {
   "codemirror_mode": {
    "name": "ipython",
    "version": 3
   },
   "file_extension": ".py",
   "mimetype": "text/x-python",
   "name": "python",
   "nbconvert_exporter": "python",
   "pygments_lexer": "ipython3",
   "version": "3.9.6"
  }
 },
 "nbformat": 4,
 "nbformat_minor": 5
}
